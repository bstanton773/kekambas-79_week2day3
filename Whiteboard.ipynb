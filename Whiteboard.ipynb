{
 "cells": [
  {
   "cell_type": "code",
   "execution_count": 1,
   "metadata": {},
   "outputs": [
    {
     "data": {
      "text/plain": [
       "[2, 10, 12]"
      ]
     },
     "execution_count": 1,
     "metadata": {},
     "output_type": "execute_result"
    }
   ],
   "source": [
    "# Find Even numbers\n",
    "# Create a function that, given a list as a parameter, finds the even numbers \n",
    "# inside the list. The function should then return a list.\n",
    "# Bonus: Use a list comprehension to find your solution\n",
    "# Example:\n",
    "# Input: [2, 7, 10, 11, 12]\n",
    "# Output: [2, 10, 12]\n",
    "\n",
    "\n",
    "def even_nums(a_list):\n",
    "    return [num for num in a_list if num % 2 == 0]\n",
    "\n",
    "even_nums([2, 7, 10, 11, 12])"
   ]
  },
  {
   "cell_type": "code",
   "execution_count": null,
   "metadata": {},
   "outputs": [],
   "source": []
  }
 ],
 "metadata": {
  "kernelspec": {
   "display_name": "Python 3",
   "language": "python",
   "name": "python3"
  },
  "language_info": {
   "codemirror_mode": {
    "name": "ipython",
    "version": 3
   },
   "file_extension": ".py",
   "mimetype": "text/x-python",
   "name": "python",
   "nbconvert_exporter": "python",
   "pygments_lexer": "ipython3",
   "version": "3.8.5"
  }
 },
 "nbformat": 4,
 "nbformat_minor": 4
}
